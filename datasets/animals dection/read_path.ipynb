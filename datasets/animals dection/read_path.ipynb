{
 "cells": [
  {
   "cell_type": "code",
   "execution_count": 3,
   "id": "ce229afd-c4f6-40a1-b546-0023b41f647d",
   "metadata": {},
   "outputs": [],
   "source": [
    "import numpy as np\n",
    "import os"
   ]
  },
  {
   "cell_type": "code",
   "execution_count": 4,
   "id": "538b28c2-6509-4276-8662-3629fa9ee259",
   "metadata": {},
   "outputs": [],
   "source": [
    "\n",
    "images_dir = 'E:\\\\yolov7-main\\\\datasets\\\\animals dection\\\\images\\\\train'  # 图片所在的文件夹路径\n",
    "output_file = 'test.txt'  # 输出文件名\n",
    "\n",
    "# 获取图片文件名列表\n",
    "image_paths = [os.path.join(images_dir, f) for f in os.listdir(images_dir) if f.endswith('.jpg') or f.endswith('.png')]\n",
    "\n",
    "# 将图片文件名列表写入文本文件\n",
    "with open(output_file, 'w') as f:\n",
    "    for name in image_paths:\n",
    "        f.write(name + '\\n')"
   ]
  },
  {
   "cell_type": "code",
   "execution_count": null,
   "id": "46301e6f-0d80-41e2-b88e-0a84adaf6a5b",
   "metadata": {},
   "outputs": [],
   "source": []
  },
  {
   "cell_type": "code",
   "execution_count": null,
   "id": "07b0a110-2a2b-4694-a5d0-1739ada02720",
   "metadata": {},
   "outputs": [],
   "source": []
  }
 ],
 "metadata": {
  "kernelspec": {
   "display_name": "Python 3 (ipykernel)",
   "language": "python",
   "name": "python3"
  },
  "language_info": {
   "codemirror_mode": {
    "name": "ipython",
    "version": 3
   },
   "file_extension": ".py",
   "mimetype": "text/x-python",
   "name": "python",
   "nbconvert_exporter": "python",
   "pygments_lexer": "ipython3",
   "version": "3.8.16"
  }
 },
 "nbformat": 4,
 "nbformat_minor": 5
}
